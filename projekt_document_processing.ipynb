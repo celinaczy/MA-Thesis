{
 "cells": [
  {
   "cell_type": "code",
   "execution_count": 25,
   "metadata": {},
   "outputs": [
    {
     "name": "stderr",
     "output_type": "stream",
     "text": [
      "[nltk_data] Downloading package vader_lexicon to\n",
      "[nltk_data]     C:\\Users\\panij\\AppData\\Roaming\\nltk_data...\n",
      "[nltk_data]   Package vader_lexicon is already up-to-date!\n"
     ]
    }
   ],
   "source": [
    "import nltk \n",
    "from nltk import sent_tokenize\n",
    "nltk.download('vader_lexicon')\n",
    "from vaderSentiment.vaderSentiment import SentimentIntensityAnalyzer\n",
    "analyzer = SentimentIntensityAnalyzer()\n",
    "import operator"
   ]
  },
  {
   "cell_type": "code",
   "execution_count": 26,
   "metadata": {},
   "outputs": [
    {
     "data": {
      "text/plain": [
       "['S01/1.txt',\n",
       " 'S01/2.txt',\n",
       " 'S01/3.txt',\n",
       " 'S02/1.txt',\n",
       " 'S02/2.txt',\n",
       " 'S02/3.txt',\n",
       " 'S02/4.txt',\n",
       " 'S03/1.txt',\n",
       " 'S03/2.txt',\n",
       " 'S03/3.txt',\n",
       " 'S03/4.txt',\n",
       " 'S03/5.txt',\n",
       " 'S03/6.txt',\n",
       " 'S04/1.txt',\n",
       " 'S04/2.txt',\n",
       " 'S04/3.txt',\n",
       " 'S04/4.txt',\n",
       " 'S04/5.txt',\n",
       " 'S04/6.txt']"
      ]
     },
     "execution_count": 26,
     "metadata": {},
     "output_type": "execute_result"
    }
   ],
   "source": [
    "my_corpus = nltk.corpus.PlaintextCorpusReader(\"BM_corpus\", '.*\\.txt')\n",
    "my_corpus.fileids()"
   ]
  },
  {
   "cell_type": "code",
   "execution_count": 27,
   "metadata": {},
   "outputs": [
    {
     "data": {
      "text/plain": [
       "['MOBILE PHONE VIBRATES  MAN SIGHS  Hello.',\n",
       " \"Just tell me what's happened.\",\n",
       " 'And what is it?',\n",
       " \"I'll be right down.\",\n",
       " \"What's happened?\",\n",
       " 'Er, Susannah.',\n",
       " 'Susannah?',\n",
       " 'Princess Susannah.',\n",
       " 'Is she all right?',\n",
       " \"Don't know.\"]"
      ]
     },
     "execution_count": 27,
     "metadata": {},
     "output_type": "execute_result"
    }
   ],
   "source": [
    "def sentence_tokenize(file):\n",
    "    sents = list(sent_tokenize(my_corpus.raw(file)))\n",
    "    for i in range(len(sents)-1):\n",
    "        sents[i] = sents[i].replace('\\n', ' ').replace('\\r', '')\n",
    "    return sents\n",
    "    \n",
    "sentence_tokenize('S01/1.txt')[:10]"
   ]
  },
  {
   "cell_type": "code",
   "execution_count": 28,
   "metadata": {},
   "outputs": [],
   "source": [
    "S01E01 = sentence_tokenize('S01/1.txt')\n",
    "S01E02 = sentence_tokenize('S01/2.txt')\n",
    "S01E03 = sentence_tokenize('S01/3.txt')\n",
    "S02E01 = sentence_tokenize('S02/1.txt')\n",
    "S02E02 = sentence_tokenize('S02/2.txt')\n",
    "S02E03 = sentence_tokenize('S02/3.txt')\n",
    "S02E04 = sentence_tokenize('S02/4.txt')\n",
    "S03E01 = sentence_tokenize('S03/1.txt')\n",
    "S03E02 = sentence_tokenize('S03/2.txt')\n",
    "S03E03 = sentence_tokenize('S03/3.txt')\n",
    "S03E04 = sentence_tokenize('S03/4.txt')\n",
    "S03E05 = sentence_tokenize('S03/5.txt')\n",
    "S03E06 = sentence_tokenize('S03/6.txt')\n",
    "S04E01 = sentence_tokenize('S04/1.txt')\n",
    "S04E02 = sentence_tokenize('S04/2.txt')\n",
    "S04E03 = sentence_tokenize('S04/3.txt')\n",
    "S04E04 = sentence_tokenize('S04/4.txt')\n",
    "S04E05 = sentence_tokenize('S04/5.txt')\n",
    "S04E06 = sentence_tokenize('S04/6.txt')\n",
    "episodes = [S01E01, S01E02, S01E03, S02E01, S02E02, S02E03, S02E04, S03E01, S03E02, S03E03, S03E04, S03E05, S03E06, S04E01, S04E02, S04E03, S04E04, S04E05, S04E06]"
   ]
  },
  {
   "cell_type": "code",
   "execution_count": 29,
   "metadata": {},
   "outputs": [
    {
     "name": "stdout",
     "output_type": "stream",
     "text": [
      "(ON TV) 'Don't kill me.-------------------------------- {'neg': 0.0, 'neu': 0.517, 'pos': 0.483, 'compound': 0.5773}\n",
      "'Please don't kill me.'-------------------------------- {'neg': 0.0, 'neu': 0.249, 'pos': 0.751, 'compound': 0.7217}\n",
      "'Popularly known as Princess Susannah.----------------- {'neg': 0.0, 'neu': 0.588, 'pos': 0.412, 'compound': 0.4215}\n",
      "Prime Minister, at this point, I think it's important to say  that we are 100% certain  that this is, indeed,  Princess Susannah. {'neg': 0.0, 'neu': 0.83, 'pos': 0.17, 'compound': 0.4404}\n",
      "Her car was intercepted shortly after midnight, returning from the wedding of a college friend. {'neg': 0.0, 'neu': 0.802, 'pos': 0.198, 'compound': 0.4939}\n",
      "But you had security on her?--------------------------- {'neg': 0.0, 'neu': 0.617, 'pos': 0.383, 'compound': 0.4767}\n",
      "No sign of struggle.----------------------------------- {'neg': 0.692, 'neu': 0.308, 'pos': 0.0, 'compound': -0.5423}\n",
      "What do they want?------------------------------------- {'neg': 0.0, 'neu': 0.698, 'pos': 0.302, 'compound': 0.0772}\n",
      "Scrap Third World debt?-------------------------------- {'neg': 0.455, 'neu': 0.545, 'pos': 0.0, 'compound': -0.3612}\n",
      "Save the fucking libraries?---------------------------- {'neg': 0.0, 'neu': 0.484, 'pos': 0.516, 'compound': 0.4939}\n",
      "We are convinced both the video and the demand it contains are genuine. {'neg': 0.099, 'neu': 0.724, 'pos': 0.178, 'compound': 0.296}\n",
      "What demand?------------------------------------------- {'neg': 0.6, 'neu': 0.4, 'pos': 0.0, 'compound': -0.128}\n",
      "Just play it.------------------------------------------ {'neg': 0.0, 'neu': 0.455, 'pos': 0.545, 'compound': 0.34}\n",
      "'There is only one demand, and it is a simple one.----- {'neg': 0.143, 'neu': 0.857, 'pos': 0.0, 'compound': -0.128}\n",
      "'At 4pm this afternoon,  'Prime Minister Michael Callow must appear on live British television  'on all networks, terrestrial and satellite,  'and... No! {'neg': 0.106, 'neu': 0.894, 'pos': 0.0, 'compound': -0.3595}\n",
      "VIDEO STOPPED  The video ends with a series of technical specifications for the broadcast. {'neg': 0.18, 'neu': 0.82, 'pos': 0.0, 'compound': -0.3885}\n",
      "\"Ha ha, Mike!------------------------------------------ {'neg': 0.0, 'neu': 0.164, 'pos': 0.836, 'compound': 0.6239}\n",
      "They want me to have sex with a pig?------------------- {'neg': 0.0, 'neu': 0.843, 'pos': 0.157, 'compound': 0.0772}\n",
      "We're checking with embedded operatives, compiling a list of suspects. {'neg': 0.231, 'neu': 0.769, 'pos': 0.0, 'compound': -0.34}\n",
      "Meanwhile, the demand has been made.------------------- {'neg': 0.231, 'neu': 0.769, 'pos': 0.0, 'compound': -0.128}\n",
      "Well, I'm not fucking a pig!--------------------------- {'neg': 0.0, 'neu': 0.626, 'pos': 0.374, 'compound': 0.3382}\n",
      "Well, have we established a dialogue with this...?----- {'neg': 0.0, 'neu': 0.741, 'pos': 0.259, 'compound': 0.2732}\n",
      "There's no e-mail address, no code word.--------------- {'neg': 0.468, 'neu': 0.532, 'pos': 0.0, 'compound': -0.5267}\n",
      "No channel for negotiation.---------------------------- {'neg': 0.423, 'neu': 0.577, 'pos': 0.0, 'compound': -0.296}\n",
      "However it's done, I don't care.----------------------- {'neg': 0.396, 'neu': 0.604, 'pos': 0.0, 'compound': -0.3875}\n",
      "We stop this now.-------------------------------------- {'neg': 0.423, 'neu': 0.577, 'pos': 0.0, 'compound': -0.296}\n",
      "Yes.--------------------------------------------------- {'neg': 0.0, 'neu': 0.0, 'pos': 1.0, 'compound': 0.4019}\n",
      "No.---------------------------------------------------- {'neg': 1.0, 'neu': 0.0, 'pos': 0.0, 'compound': -0.296}\n",
      "A dedicated core team.--------------------------------- {'neg': 0.0, 'neu': 0.4, 'pos': 0.6, 'compound': 0.4588}\n",
      "If there are hacks sniffing around,  Super fucking Godzilla injunction with ten-inch Whitehall fangs! {'neg': 0.0, 'neu': 0.756, 'pos': 0.244, 'compound': 0.636}\n",
      "Well, get it off there!-------------------------------- {'neg': 0.0, 'neu': 0.626, 'pos': 0.374, 'compound': 0.3382}\n",
      "No.---------------------------------------------------- {'neg': 1.0, 'neu': 0.0, 'pos': 0.0, 'compound': -0.296}\n",
      "What's the play book?---------------------------------- {'neg': 0.0, 'neu': 0.556, 'pos': 0.444, 'compound': 0.34}\n",
      "There's no play book.---------------------------------- {'neg': 0.333, 'neu': 0.303, 'pos': 0.364, 'compound': 0.0516}\n",
      "You scared the shit out of me!------------------------- {'neg': 0.238, 'neu': 0.41, 'pos': 0.352, 'compound': 0.3382}\n",
      "No way.------------------------------------------------ {'neg': 0.688, 'neu': 0.312, 'pos': 0.0, 'compound': -0.296}\n",
      "It's a piss take, man.--------------------------------- {'neg': 0.474, 'neu': 0.526, 'pos': 0.0, 'compound': -0.4019}\n",
      "'..Carlton Bloom's controversial exhibition  'closes three weeks ahead of schedule...'  How do we describe it? {'neg': 0.114, 'neu': 0.886, 'pos': 0.0, 'compound': -0.2023}\n",
      "If we mention bestiality Ofcom would be pissed off.---- {'neg': 0.344, 'neu': 0.656, 'pos': 0.0, 'compound': -0.6369}\n",
      "Fuck Ofcom!-------------------------------------------- {'neg': 0.791, 'neu': 0.209, 'pos': 0.0, 'compound': -0.5848}\n",
      "Surely we're going to do something.-------------------- {'neg': 0.0, 'neu': 0.633, 'pos': 0.367, 'compound': 0.4404}\n",
      "Facebook's coverage is pretty comprehensive!----------- {'neg': 0.0, 'neu': 0.353, 'pos': 0.647, 'compound': 0.6696}\n",
      "It's like 9/11's happening and  We're not a chat room!- {'neg': 0.0, 'neu': 0.741, 'pos': 0.259, 'compound': 0.4199}\n",
      "And MSNBC, Al Jazeera, NHK...  Oh, God!---------------- {'neg': 0.0, 'neu': 0.715, 'pos': 0.285, 'compound': 0.3382}\n",
      "OK, Sarah, cover the snatch itself.-------------------- {'neg': 0.0, 'neu': 0.63, 'pos': 0.37, 'compound': 0.4466}\n",
      "Functional... no Peppa Pigs.--------------------------- {'neg': 0.423, 'neu': 0.577, 'pos': 0.0, 'compound': -0.296}\n",
      "First, an awkward phone call.-------------------------- {'neg': 0.286, 'neu': 0.714, 'pos': 0.0, 'compound': -0.1531}\n",
      "Least I can do is warn Tom.---------------------------- {'neg': 0.219, 'neu': 0.781, 'pos': 0.0, 'compound': -0.1027}\n",
      "'Look, I'm sorry.-------------------------------------- {'neg': 0.394, 'neu': 0.606, 'pos': 0.0, 'compound': -0.0772}\n",
      "I can't help you.'------------------------------------- {'neg': 0.53, 'neu': 0.47, 'pos': 0.0, 'compound': -0.3089}\n",
      "You know how much help you're getting hereon in?------- {'neg': 0.0, 'neu': 0.748, 'pos': 0.252, 'compound': 0.4019}\n",
      "Interesting.------------------------------------------- {'neg': 0.0, 'neu': 0.0, 'pos': 1.0, 'compound': 0.4019}\n",
      "Sea Of Tranquillity.----------------------------------- {'neg': 0.0, 'neu': 0.417, 'pos': 0.583, 'compound': 0.4215}\n",
      "You won't find better.--------------------------------- {'neg': 0.445, 'neu': 0.555, 'pos': 0.0, 'compound': -0.3412}\n",
      "Yeah, Gonzo style.------------------------------------- {'neg': 0.0, 'neu': 0.476, 'pos': 0.524, 'compound': 0.296}\n",
      "He knows his shit.------------------------------------- {'neg': 0.545, 'neu': 0.455, 'pos': 0.0, 'compound': -0.5574}\n",
      "That's tough.------------------------------------------ {'neg': 0.6, 'neu': 0.4, 'pos': 0.0, 'compound': -0.128}\n",
      "This is what's left... radicals, hate groups.---------- {'neg': 0.381, 'neu': 0.619, 'pos': 0.0, 'compound': -0.5719}\n",
      "People who've threatened yourself or the royals.------- {'neg': 0.333, 'neu': 0.667, 'pos': 0.0, 'compound': -0.4588}\n",
      "For more than questioning, I hope.--------------------- {'neg': 0.214, 'neu': 0.383, 'pos': 0.403, 'compound': 0.3581}\n",
      "Must be a hoax.---------------------------------------- {'neg': 0.512, 'neu': 0.488, 'pos': 0.0, 'compound': -0.2732}\n",
      "'The video contains a bizarre ransom demand of a personal nature  'involving the Prime Minister, and a detailed list of instructions  'relating to the enactment of this demand. {'neg': 0.194, 'neu': 0.806, 'pos': 0.0, 'compound': -0.5106}\n",
      "'A man thought to be connected with a religious pressure group, dragged to a waiting van...'  If it's terrorists, they'll take her head off. {'neg': 0.283, 'neu': 0.717, 'pos': 0.0, 'compound': -0.7579}\n",
      "They want him to do it with a pig.--------------------- {'neg': 0.0, 'neu': 0.843, 'pos': 0.157, 'compound': 0.0772}\n",
      "Nothing too gross.------------------------------------- {'neg': 0.0, 'neu': 0.439, 'pos': 0.561, 'compound': 0.3724}\n",
      "Big grab of Susannah...  Of course I still want that drink. {'neg': 0.0, 'neu': 0.874, 'pos': 0.126, 'compound': 0.0772}\n",
      "I'm friendly when I drink.----------------------------- {'neg': 0.0, 'neu': 0.484, 'pos': 0.516, 'compound': 0.4939}\n",
      "Very friendly when I'm grateful.----------------------- {'neg': 0.0, 'neu': 0.316, 'pos': 0.684, 'compound': 0.7574}\n",
      "'I don't think anyone should concede to any humiliation under threat. {'neg': 0.441, 'neu': 0.559, 'pos': 0.0, 'compound': -0.7964}\n",
      "Just thinking about it is horrible.-------------------- {'neg': 0.412, 'neu': 0.588, 'pos': 0.0, 'compound': -0.5423}\n",
      "'..After that, he's gonna be hero.--------------------- {'neg': 0.0, 'neu': 0.581, 'pos': 0.419, 'compound': 0.5574}\n",
      "'People will look at him like he's insane and take his position away. {'neg': 0.167, 'neu': 0.679, 'pos': 0.154, 'compound': -0.0516}\n",
      "We've been squeezing hard, but nothing concrete.------- {'neg': 0.167, 'neu': 0.833, 'pos': 0.0, 'compound': -0.0516}\n",
      "Why are you lying?------------------------------------- {'neg': 0.531, 'neu': 0.469, 'pos': 0.0, 'compound': -0.5267}\n",
      "You're lying!------------------------------------------ {'neg': 0.787, 'neu': 0.213, 'pos': 0.0, 'compound': -0.5707}\n",
      "I don't want you worrying.----------------------------- {'neg': 0.232, 'neu': 0.38, 'pos': 0.387, 'compound': 0.2057}\n",
      "Whoever this is, is insane.---------------------------- {'neg': 0.403, 'neu': 0.597, 'pos': 0.0, 'compound': -0.4019}\n",
      "Princess bloody Facebook bloody eco-conscious national sweetheart. {'neg': 0.411, 'neu': 0.284, 'pos': 0.305, 'compound': -0.128}\n",
      "Everyone's laughing at us.----------------------------- {'neg': 0.0, 'neu': 0.484, 'pos': 0.516, 'compound': 0.4939}\n",
      "We love humiliation.----------------------------------- {'neg': 0.416, 'neu': 0.112, 'pos': 0.472, 'compound': 0.128}\n",
      "Please!------------------------------------------------ {'neg': 0.0, 'neu': 0.0, 'pos': 1.0, 'compound': 0.3802}\n",
      "Get Alex to stall them.-------------------------------- {'neg': 0.31, 'neu': 0.69, 'pos': 0.0, 'compound': -0.2023}\n",
      "It's not like Dogme 95.-------------------------------- {'neg': 0.345, 'neu': 0.655, 'pos': 0.0, 'compound': -0.2755}\n",
      "Rules for a director... no background music, only natural light, for authenticity. {'neg': 0.161, 'neu': 0.657, 'pos': 0.182, 'compound': 0.0772}\n",
      "Same as these, so they can't cheat, cut another guy's arse pumping away. {'neg': 0.0, 'neu': 0.707, 'pos': 0.293, 'compound': 0.5511}\n",
      "'I can't think of anything remotely like this.--------- {'neg': 0.0, 'neu': 0.737, 'pos': 0.263, 'compound': 0.3612}\n",
      "Make love to a pig!'----------------------------------- {'neg': 0.0, 'neu': 0.4, 'pos': 0.6, 'compound': 0.6696}\n",
      "Make love?--------------------------------------------- {'neg': 0.0, 'neu': 0.192, 'pos': 0.808, 'compound': 0.6369}\n",
      "'Let's not dwell on any of the details.---------------- {'neg': 0.164, 'neu': 0.836, 'pos': 0.0, 'compound': -0.0951}\n",
      "'This is already a huge national talking point.-------- {'neg': 0.0, 'neu': 0.723, 'pos': 0.277, 'compound': 0.3182}\n",
      "\"I trust you'll do everything in your power to get her back.\" {'neg': 0.0, 'neu': 0.769, 'pos': 0.231, 'compound': 0.5106}\n",
      "Looks like a campus.----------------------------------- {'neg': 0.0, 'neu': 0.444, 'pos': 0.556, 'compound': 0.3612}\n",
      "Yeah.-------------------------------------------------- {'neg': 0.0, 'neu': 0.0, 'pos': 1.0, 'compound': 0.296}\n",
      "It's been empty since.--------------------------------- {'neg': 0.375, 'neu': 0.625, 'pos': 0.0, 'compound': -0.2023}\n",
      "3am flyover shot from last night...  Looks like it had lights on. {'neg': 0.0, 'neu': 0.815, 'pos': 0.185, 'compound': 0.3612}\n",
      "Alert the local team.---------------------------------- {'neg': 0.0, 'neu': 0.577, 'pos': 0.423, 'compound': 0.296}\n",
      "Yes!--------------------------------------------------- {'neg': 0.0, 'neu': 0.0, 'pos': 1.0, 'compound': 0.4574}\n",
      "Confident?--------------------------------------------- {'neg': 0.0, 'neu': 0.0, 'pos': 1.0, 'compound': 0.4939}\n",
      "It's a kick-bollock scramble, but with finessing it should be OK. {'neg': 0.0, 'neu': 0.698, 'pos': 0.302, 'compound': 0.5993}\n",
      "No.---------------------------------------------------- {'neg': 1.0, 'neu': 0.0, 'pos': 0.0, 'compound': -0.296}\n",
      "I'm pretty trad... bish, bash, bosh.------------------- {'neg': 0.0, 'neu': 0.61, 'pos': 0.39, 'compound': 0.4939}\n",
      "Need to prep two statements  Good outcome.------------- {'neg': 0.0, 'neu': 0.674, 'pos': 0.326, 'compound': 0.4404}\n",
      "Bad outcome.------------------------------------------- {'neg': 0.778, 'neu': 0.222, 'pos': 0.0, 'compound': -0.5423}\n"
     ]
    },
    {
     "name": "stdout",
     "output_type": "stream",
     "text": [
      "Rescue operation?-------------------------------------- {'neg': 0.0, 'neu': 0.233, 'pos': 0.767, 'compound': 0.5106}\n",
      "UNZIPS/CLOTHES RUSTLE  CAMERA CLICKS  PHONE BEEPS  Yeah, I've reduced the luminance... {'neg': 0.0, 'neu': 0.82, 'pos': 0.18, 'compound': 0.296}\n",
      "Yeah.-------------------------------------------------- {'neg': 0.0, 'neu': 0.0, 'pos': 1.0, 'compound': 0.296}\n",
      "No.---------------------------------------------------- {'neg': 1.0, 'neu': 0.0, 'pos': 0.0, 'compound': -0.296}\n",
      "Be rude not to give her a kiss beforehand.------------- {'neg': 0.254, 'neu': 0.508, 'pos': 0.237, 'compound': -0.0516}\n",
      "Thank you.--------------------------------------------- {'neg': 0.0, 'neu': 0.286, 'pos': 0.714, 'compound': 0.3612}\n",
      "Continue reconnaissance and await instructions.-------- {'neg': 0.0, 'neu': 0.741, 'pos': 0.259, 'compound': 0.1027}\n",
      "'With the 4pm deadline three hours away,  'time is running out for the Prime Minister...'  They got in, yeah? {'neg': 0.0, 'neu': 0.891, 'pos': 0.109, 'compound': 0.296}\n",
      "Listen, coverage is very sympathetic.------------------ {'neg': 0.0, 'neu': 0.527, 'pos': 0.473, 'compound': 0.5563}\n",
      "Strong undercurrent of sympathy.----------------------- {'neg': 0.0, 'neu': 0.256, 'pos': 0.744, 'compound': 0.7003}\n",
      "Every poll indicates understanding, disgust with the captor, outrage at the whole thing, but not at you. {'neg': 0.235, 'neu': 0.765, 'pos': 0.0, 'compound': -0.5574}\n",
      "If Walker's team fuck up, I'm not saying they will, but if they do,  the public anticipates non-compliance. {'neg': 0.117, 'neu': 0.883, 'pos': 0.0, 'compound': -0.3071}\n",
      "There'll be squawks from the usuals,  If he kills her, there's no blood on your hands. {'neg': 0.289, 'neu': 0.711, 'pos': 0.0, 'compound': -0.6908}\n",
      "'With hours to go, time is running out for the security services. {'neg': 0.0, 'neu': 0.821, 'pos': 0.179, 'compound': 0.34}\n",
      "Twinkle tits from?------------------------------------- {'neg': 0.487, 'neu': 0.513, 'pos': 0.0, 'compound': -0.2263}\n",
      "Get someone to shoot that first.----------------------- {'neg': 0.324, 'neu': 0.676, 'pos': 0.0, 'compound': -0.34}\n",
      "What the fuck is this?--------------------------------- {'neg': 0.467, 'neu': 0.533, 'pos': 0.0, 'compound': -0.5423}\n",
      "'(SCREAMS)'  'Some more breaking news,  'and a severed finger, thought to belong to Princess Susannah,  'has been delivered to UKN, along with a video  'apparently showing the kidnapper removing it from the princess. {'neg': 0.077, 'neu': 0.923, 'pos': 0.0, 'compound': -0.3612}\n",
      "'UKN News has passed all material to Scotland Yard...'  Fucking hell! {'neg': 0.341, 'neu': 0.659, 'pos': 0.0, 'compound': -0.7339}\n",
      "Oh, God!----------------------------------------------- {'neg': 0.0, 'neu': 0.295, 'pos': 0.705, 'compound': 0.3382}\n",
      "He's got to do what they want.------------------------- {'neg': 0.0, 'neu': 0.822, 'pos': 0.178, 'compound': 0.0772}\n",
      "Yes, he fucking has!----------------------------------- {'neg': 0.0, 'neu': 0.501, 'pos': 0.499, 'compound': 0.4574}\n",
      "'..Which contained a statement  'This grim development comes just  Jesus! {'neg': 0.368, 'neu': 0.632, 'pos': 0.0, 'compound': -0.6875}\n",
      "Unless I'm mistaken, our mystery man specified  no visual trickery in his original demand, didn't he? {'neg': 0.384, 'neu': 0.509, 'pos': 0.106, 'compound': -0.6124}\n",
      "I considered it necessary...  FUCKING HELL!------------ {'neg': 0.624, 'neu': 0.376, 'pos': 0.0, 'compound': -0.8249}\n",
      "It's nor...  One word, I swear I will fucking...!------ {'neg': 0.199, 'neu': 0.801, 'pos': 0.0, 'compound': -0.126}\n",
      "A man prepared to do it and an FX company that would paint your head onto his shoulders. {'neg': 0.0, 'neu': 0.894, 'pos': 0.106, 'compound': 0.2263}\n",
      "I believed it worth considering.----------------------- {'neg': 0.0, 'neu': 0.612, 'pos': 0.388, 'compound': 0.2263}\n",
      "Then you're a stupid bitch.---------------------------- {'neg': 0.783, 'neu': 0.217, 'pos': 0.0, 'compound': -0.802}\n",
      "With your interest at heart.--------------------------- {'neg': 0.0, 'neu': 0.571, 'pos': 0.429, 'compound': 0.4588}\n",
      "It seems some idiot at the studio  recognised our designated performer,  Tweeted a photo and the online hivemind did the maths. {'neg': 0.148, 'neu': 0.852, 'pos': 0.0, 'compound': -0.5106}\n",
      "It's not playing well.--------------------------------- {'neg': 0.63, 'neu': 0.37, 'pos': 0.0, 'compound': -0.3412}\n",
      "'A few hours ago, public opinion was behind Prime Minister Callow,  'he should fulfil the bizarre and illegal request. {'neg': 0.258, 'neu': 0.742, 'pos': 0.0, 'compound': -0.7096}\n",
      "'It'll be humiliating, but nothing compared to her suffering. {'neg': 0.451, 'neu': 0.549, 'pos': 0.0, 'compound': -0.6956}\n",
      "'Online polls suggest that 86% of voters  'now believe the demand should be met. {'neg': 0.103, 'neu': 0.897, 'pos': 0.0, 'compound': -0.128}\n",
      "They need time...  No more pissing around.------------- {'neg': 0.509, 'neu': 0.491, 'pos': 0.0, 'compound': -0.6361}\n",
      "I'd say bullshit.-------------------------------------- {'neg': 0.655, 'neu': 0.345, 'pos': 0.0, 'compound': -0.5859}\n",
      "Then you'd be wrong.----------------------------------- {'neg': 0.508, 'neu': 0.492, 'pos': 0.0, 'compound': -0.4767}\n",
      "I'm not stupid.---------------------------------------- {'neg': 0.0, 'neu': 0.419, 'pos': 0.581, 'compound': 0.4168}\n",
      "Yeah.-------------------------------------------------- {'neg': 0.0, 'neu': 0.0, 'pos': 1.0, 'compound': 0.296}\n",
      "Don't put yourself in any danger.---------------------- {'neg': 0.405, 'neu': 0.595, 'pos': 0.0, 'compound': -0.5267}\n",
      "Yeah.-------------------------------------------------- {'neg': 0.0, 'neu': 0.0, 'pos': 1.0, 'compound': 0.296}\n",
      "Just stay safe, Malaika.------------------------------- {'neg': 0.0, 'neu': 0.508, 'pos': 0.492, 'compound': 0.4404}\n",
      "Be careful!-------------------------------------------- {'neg': 0.0, 'neu': 0.346, 'pos': 0.654, 'compound': 0.2244}\n",
      "Fuck!-------------------------------------------------- {'neg': 1.0, 'neu': 0.0, 'pos': 0.0, 'compound': -0.5848}\n",
      "I'm sorry.--------------------------------------------- {'neg': 0.565, 'neu': 0.435, 'pos': 0.0, 'compound': -0.0772}\n",
      "'Malaika, make sure they can't...'  Stay down!--------- {'neg': 0.0, 'neu': 0.698, 'pos': 0.302, 'compound': 0.3802}\n",
      "MACHINE GUN FIRE  Is it him?--------------------------- {'neg': 0.61, 'neu': 0.39, 'pos': 0.0, 'compound': -0.7404}\n",
      "Yes.--------------------------------------------------- {'neg': 0.0, 'neu': 0.0, 'pos': 1.0, 'compound': 0.4019}\n",
      "There goes your RTS Award.----------------------------- {'neg': 0.0, 'neu': 0.533, 'pos': 0.467, 'compound': 0.5423}\n",
      "You rescued mannequin.--------------------------------- {'neg': 0.0, 'neu': 0.417, 'pos': 0.583, 'compound': 0.4215}\n",
      "I'm sorry, Michael...  Fuck off, Julian!--------------- {'neg': 0.56, 'neu': 0.44, 'pos': 0.0, 'compound': -0.6239}\n",
      "To the public...  Fuck the public!--------------------- {'neg': 0.431, 'neu': 0.569, 'pos': 0.0, 'compound': -0.5848}\n",
      "To the public, this would be one man of questionable popularity  putting personal embarrassment over the life of a girl. {'neg': 0.211, 'neu': 0.661, 'pos': 0.128, 'compound': -0.25}\n",
      "She's probably already dead.--------------------------- {'neg': 0.589, 'neu': 0.411, 'pos': 0.0, 'compound': -0.6486}\n",
      "If she isn't, he'll kill her and upload the video.----- {'neg': 0.0, 'neu': 0.707, 'pos': 0.293, 'compound': 0.5773}\n",
      "The mood will border on insurrection and you will be destroyed,  I guarantee you... utterly destroyed. {'neg': 0.314, 'neu': 0.588, 'pos': 0.098, 'compound': -0.6597}\n",
      "You won't just be a disgraced politician,  The public, the Palace and the Party insist on compliance. {'neg': 0.0, 'neu': 0.73, 'pos': 0.27, 'compound': 0.6346}\n",
      "Fuck the Party!---------------------------------------- {'neg': 0.506, 'neu': 0.133, 'pos': 0.36, 'compound': -0.2714}\n",
      "Refuse, and I've been advised  that we cannot guarantee your physical safety. {'neg': 0.25, 'neu': 0.572, 'pos': 0.178, 'compound': -0.0361}\n",
      "I'm sorry, Michael.------------------------------------ {'neg': 0.394, 'neu': 0.606, 'pos': 0.0, 'compound': -0.0772}\n",
      "BEEPING  We've ratified the law... after midnight,  it'll be a criminal offence to store any recording or images of the event. {'neg': 0.231, 'neu': 0.702, 'pos': 0.066, 'compound': -0.6124}\n",
      "They're doing an announcement to warn people off even watching, some sonic tone that causes nausea. {'neg': 0.085, 'neu': 0.915, 'pos': 0.0, 'compound': -0.1027}\n",
      "'..When public opinion has very much hardened,  'following the delivery of the princess's severed finger. {'neg': 0.152, 'neu': 0.848, 'pos': 0.0, 'compound': -0.3612}\n",
      "'As the 4pm deadline approaches, the nation is at a standstill  'watching the extraordinary situation play out. {'neg': 0.0, 'neu': 0.862, 'pos': 0.138, 'compound': 0.34}\n",
      "'Just to remind you, this is now a story of global significance...'  \"Michael Callow has displayed incredible bravery\"  \"in what was a matter of life or death.\" {'neg': 0.0, 'neu': 0.842, 'pos': 0.158, 'compound': 0.5106}\n",
      "That's how it opens, then we should move on...  OK. Yeah. {'neg': 0.0, 'neu': 0.637, 'pos': 0.363, 'compound': 0.6289}\n",
      "Everything prepared?----------------------------------- {'neg': 0.0, 'neu': 0.345, 'pos': 0.655, 'compound': 0.2263}\n",
      "Yes, ma'am.-------------------------------------------- {'neg': 0.0, 'neu': 0.27, 'pos': 0.73, 'compound': 0.4019}\n",
      "CHEERING  '..in the hope that it will ensure the release of Princess Susannah. {'neg': 0.0, 'neu': 0.512, 'pos': 0.488, 'compound': 0.8602}\n",
      "'Recording or possessing a copy of this broadcast will become illegal. {'neg': 0.286, 'neu': 0.714, 'pos': 0.0, 'compound': -0.5574}\n",
      "If you rush, it might be misinterpreted as eagerness  or even enjoyment. {'neg': 0.131, 'neu': 0.511, 'pos': 0.358, 'compound': 0.6124}\n",
      "SLURPING  SNUFFLING/SLURPING  EXCITED VOICES  There he is! {'neg': 0.0, 'neu': 0.637, 'pos': 0.363, 'compound': 0.5307}\n",
      "CHEERING  'I trust this will bring about the safe return of Princess Susannah.' {'neg': 0.0, 'neu': 0.494, 'pos': 0.506, 'compound': 0.8816}\n",
      "'I...  'I love my wife.'------------------------------- {'neg': 0.0, 'neu': 0.488, 'pos': 0.512, 'compound': 0.6369}\n",
      "'May God forgive me.'---------------------------------- {'neg': 0.0, 'neu': 0.323, 'pos': 0.677, 'compound': 0.4939}\n",
      "GROANS/LAUGHTER  (WOMAN) Oh, no!----------------------- {'neg': 0.454, 'neu': 0.546, 'pos': 0.0, 'compound': -0.3595}\n",
      "ALL GROAN  VOICES FADE  GENTLE MUSIC  Jesus!----------- {'neg': 0.0, 'neu': 0.605, 'pos': 0.395, 'compound': 0.6027}\n",
      "Poor bastard!------------------------------------------ {'neg': 1.0, 'neu': 0.0, 'pos': 0.0, 'compound': -0.784}\n",
      "Lose that page of the report.-------------------------- {'neg': 0.351, 'neu': 0.649, 'pos': 0.0, 'compound': -0.4019}\n",
      "Good news, Michael.------------------------------------ {'neg': 0.0, 'neu': 0.408, 'pos': 0.592, 'compound': 0.4404}\n",
      "You saved her.----------------------------------------- {'neg': 0.0, 'neu': 0.417, 'pos': 0.583, 'compound': 0.4215}\n",
      "Susannah's alive and well.----------------------------- {'neg': 0.0, 'neu': 0.299, 'pos': 0.701, 'compound': 0.5719}\n",
      "PHONE RINGS  CONTINUES RINGING  (SOBS)  'On the one-year anniversary of his humiliating ordeal,  'an apparently unconcerned Michael Callow put in an assured performance  'at a public appearance, accompanied by his wife Jane. {'neg': 0.118, 'neu': 0.809, 'pos': 0.072, 'compound': -0.1531}\n",
      "'The other central figure in events was also before the camera  'at last night's Children Of Valour Awards. {'neg': 0.0, 'neu': 0.85, 'pos': 0.15, 'compound': 0.4588}\n",
      "'It was one year ago that the Turner Prize-winning artist,  'Carlton Bloom,  'coerced the Prime Minister into committing an indecent act. {'neg': 0.11, 'neu': 0.833, 'pos': 0.057, 'compound': -0.296}\n",
      "'As the anniversary arrived, one art critic caused controversy  'by describing it as \"the first great artwork of the 21st century\". {'neg': 0.083, 'neu': 0.754, 'pos': 0.163, 'compound': 0.4588}\n",
      "'While cultural commentators debate its significance,  'with a global audience of 1.3 billion,  'it was an event in which we all participated. {'neg': 0.0, 'neu': 0.905, 'pos': 0.095, 'compound': 0.2732}\n",
      "'The incident failed to destroy a Prime Minister,  'who holds an approval rating three points higher than last year. {'neg': 0.273, 'neu': 0.602, 'pos': 0.124, 'compound': -0.5719}\n",
      "Jane, please.------------------------------------------ {'neg': 0.0, 'neu': 0.303, 'pos': 0.697, 'compound': 0.3182}\n"
     ]
    }
   ],
   "source": [
    "for sentence in S01E01:\n",
    "    pol = analyzer.polarity_scores(sentence)['compound']\n",
    "    if pol !=0:\n",
    "        vs = analyzer.polarity_scores(sentence)\n",
    "        print(\"{:-<55} {}\".format(sentence, str(vs)))"
   ]
  },
  {
   "cell_type": "code",
   "execution_count": 30,
   "metadata": {},
   "outputs": [],
   "source": [
    "def scores(episode, type):\n",
    "    scores = []\n",
    "    for sentence in episode:\n",
    "        pol = analyzer.polarity_scores(sentence)[type]\n",
    "        if pol != 0:\n",
    "            vs = analyzer.polarity_scores(sentence)\n",
    "            scores += [[sentence, vs[type]]]\n",
    "    scores = sorted(scores, key = lambda x : x[1],reverse = True)\n",
    "    return scores"
   ]
  },
  {
   "cell_type": "code",
   "execution_count": 31,
   "metadata": {},
   "outputs": [
    {
     "name": "stdout",
     "output_type": "stream",
     "text": [
      "CHEERING  'I trust this will bring about the safe return of Princess Susannah.'---------------------  0.8816\n",
      "CHEERING  '..in the hope that it will ensure the release of Princess Susannah.----------------------  0.8602\n",
      "Very friendly when I'm grateful.--------------------------------------------------------------------  0.7574\n",
      "'Please don't kill me.'-----------------------------------------------------------------------------  0.7217\n",
      "Strong undercurrent of sympathy.--------------------------------------------------------------------  0.7003\n"
     ]
    }
   ],
   "source": [
    "# highest compound\n",
    "for i in scores(S01E01,'compound')[:5]:\n",
    "    print(\"{:-<100}  {}\".format(i[0],i[1]))"
   ]
  },
  {
   "cell_type": "code",
   "execution_count": 32,
   "metadata": {},
   "outputs": [
    {
     "name": "stdout",
     "output_type": "stream",
     "text": [
      "I considered it necessary...  FUCKING HELL!---------------------------------------------------------  -0.8249\n",
      "Then you're a stupid bitch.-------------------------------------------------------------------------  -0.802\n",
      "'I don't think anyone should concede to any humiliation under threat.-------------------------------  -0.7964\n",
      "Poor bastard!---------------------------------------------------------------------------------------  -0.784\n"
     ]
    }
   ],
   "source": [
    "# lowest_compund\n",
    "for i in scores(S01E01,'compound')[:-5:-1]:\n",
    "    print(\"{:-<100}  {}\".format(i[0],i[1]))"
   ]
  },
  {
   "cell_type": "code",
   "execution_count": 33,
   "metadata": {},
   "outputs": [
    {
     "name": "stdout",
     "output_type": "stream",
     "text": [
      "Yes.------------------------------------------------------------------------------------------------  1.0\n",
      "Interesting.----------------------------------------------------------------------------------------  1.0\n",
      "Please!---------------------------------------------------------------------------------------------  1.0\n",
      "Yeah.-----------------------------------------------------------------------------------------------  1.0\n",
      "Yes!------------------------------------------------------------------------------------------------  1.0\n",
      "Confident?------------------------------------------------------------------------------------------  1.0\n",
      "Yeah.-----------------------------------------------------------------------------------------------  1.0\n",
      "Yeah.-----------------------------------------------------------------------------------------------  1.0\n"
     ]
    }
   ],
   "source": [
    "# most positive sents \n",
    "for i in scores(S01E01,'pos')[:8]:\n",
    "    print(\"{:-<100}  {}\".format(i[0],i[1]))"
   ]
  },
  {
   "cell_type": "code",
   "execution_count": 34,
   "metadata": {},
   "outputs": [
    {
     "name": "stdout",
     "output_type": "stream",
     "text": [
      "No.-------------------------------------------------------------------------------------------------  1.0\n",
      "No.-------------------------------------------------------------------------------------------------  1.0\n",
      "No.-------------------------------------------------------------------------------------------------  1.0\n",
      "No.-------------------------------------------------------------------------------------------------  1.0\n",
      "Fuck!-----------------------------------------------------------------------------------------------  1.0\n",
      "Poor bastard!---------------------------------------------------------------------------------------  1.0\n",
      "Fuck Ofcom!-----------------------------------------------------------------------------------------  0.791\n",
      "You're lying!---------------------------------------------------------------------------------------  0.787\n"
     ]
    }
   ],
   "source": [
    "# most negative sents \n",
    "for i in scores(S01E01,'neg')[:8]:\n",
    "    print(\"{:-<100}  {}\".format(i[0],i[1]))"
   ]
  },
  {
   "cell_type": "code",
   "execution_count": 35,
   "metadata": {},
   "outputs": [
    {
     "data": {
      "text/plain": [
       "0.03151139896373056"
      ]
     },
     "execution_count": 35,
     "metadata": {},
     "output_type": "execute_result"
    }
   ],
   "source": [
    "def total_score(episode,type):\n",
    "    total = 0\n",
    "    for i in scores(episode,type):\n",
    "        total+=i[1]\n",
    "    total = total/len(scores(episode,type))\n",
    "    return total\n",
    "total_score(S01E01,'compound')"
   ]
  },
  {
   "cell_type": "code",
   "execution_count": 36,
   "metadata": {},
   "outputs": [],
   "source": [
    "#rating from filmweb.pl\n",
    "rating = \"\"\"7,6\n",
    "7,9\n",
    "8,0\n",
    "7,9\n",
    "8,0\n",
    "6,8\n",
    "8,6\n",
    "8,0\n",
    "7,9\n",
    "8,1\n",
    "8,1\n",
    "7,6\n",
    "8,1\n",
    "7,7\n",
    "7,5\n",
    "7,3\n",
    "8,1\n",
    "6,3\n",
    "8,3\"\"\"\n",
    "rating = rating.split(\"\\n\")"
   ]
  },
  {
   "cell_type": "code",
   "execution_count": 37,
   "metadata": {},
   "outputs": [],
   "source": [
    "all_scores = []\n",
    "for i in range(len(episodes)):\n",
    "    all_scores+=[[my_corpus.fileids()[i],\n",
    "                  total_score(episodes[i],'compound'),\n",
    "                  total_score(episodes[i],'pos'),\n",
    "                  total_score(episodes[i],'neg'),\n",
    "                  rating[i]]]"
   ]
  },
  {
   "cell_type": "code",
   "execution_count": 38,
   "metadata": {},
   "outputs": [],
   "source": [
    "S01_scores= all_scores[:3]\n",
    "S02_scores= all_scores[3:7]\n",
    "S03_scores= all_scores[7:13]\n",
    "S04_scores= all_scores[13:]"
   ]
  },
  {
   "cell_type": "code",
   "execution_count": 39,
   "metadata": {},
   "outputs": [],
   "source": [
    "def sorted_episodes(key='compound', reverse=True, scores=all_scores):\n",
    "    key=str(key)\n",
    "    if key==\"pos\":\n",
    "        index=2\n",
    "    elif key==\"neg\":\n",
    "        index=3\n",
    "    elif key==\"rating\":\n",
    "        index=4\n",
    "    else:\n",
    "        index=1\n",
    "    sorted_scores = sorted(scores, key = lambda x : x[index],reverse = reverse)\n",
    "    return sorted_scores"
   ]
  },
  {
   "cell_type": "code",
   "execution_count": 40,
   "metadata": {},
   "outputs": [
    {
     "name": "stdout",
     "output_type": "stream",
     "text": [
      "episode    compound   pos        neg        rating    \n",
      "S04/2.txt  0.20       0.50       0.44       7,5       \n",
      "S01/3.txt  0.18       0.47       0.41       8,0       \n",
      "S03/1.txt  0.18       0.51       0.45       8,0       \n",
      "S01/2.txt  0.15       0.46       0.44       7,9       \n",
      "S04/4.txt  0.13       0.47       0.44       8,1       \n",
      "S03/2.txt  0.13       0.59       0.51       7,9       \n",
      "S04/1.txt  0.13       0.49       0.46       7,7       \n",
      "S03/3.txt  0.11       0.56       0.50       8,1       \n",
      "S02/3.txt  0.10       0.42       0.39       6,8       \n",
      "S02/4.txt  0.10       0.48       0.47       8,6       \n"
     ]
    }
   ],
   "source": [
    "print(\"{: <10} {: <10} {: <10} {: <10} {: <10}\".format(\"episode\",\"compound\",\"pos\",\"neg\",\"rating\"))\n",
    "for i in sorted_episodes()[:10]:\n",
    "        print(\"{: <10} {: <10.2f} {: <10.2f} {: <10.2f} {: <10}\".format(i[0],i[1],i[2],i[3],i[4]))"
   ]
  },
  {
   "cell_type": "code",
   "execution_count": 41,
   "metadata": {},
   "outputs": [
    {
     "name": "stdout",
     "output_type": "stream",
     "text": [
      "episode    compound   pos        neg        rating    \n",
      "S03/2.txt  0.13       0.59       0.51       7,9       \n",
      "S03/3.txt  0.11       0.56       0.50       8,1       \n",
      "S03/1.txt  0.18       0.51       0.45       8,0       \n",
      "S03/4.txt  0.09       0.51       0.44       8,1       \n",
      "S03/5.txt  -0.02      0.50       0.47       7,6       \n",
      "S03/6.txt  -0.03      0.47       0.47       8,1       \n"
     ]
    }
   ],
   "source": [
    "print(\"{: <10} {: <10} {: <10} {: <10} {: <10}\".format(\"episode\",\"compound\",\"pos\",\"neg\",\"rating\"))\n",
    "for i in sorted_episodes('pos', scores=S03_scores)[:10]:\n",
    "        print(\"{: <10} {: <10.2f} {: <10.2f} {: <10.2f} {: <10}\".format(i[0],i[1],i[2],i[3],i[4]))"
   ]
  },
  {
   "cell_type": "code",
   "execution_count": 42,
   "metadata": {},
   "outputs": [],
   "source": [
    "def word_count(text):\n",
    "    v=text\n",
    "    counts=dict()\n",
    "    for word in text:\n",
    "        if word in counts:\n",
    "            counts[word]+=1\n",
    "        else:\n",
    "            counts[word]=1\n",
    "    counts= sorted(counts.items(), key=operator.itemgetter(1),reverse=True)\n",
    "    return counts"
   ]
  },
  {
   "cell_type": "code",
   "execution_count": 43,
   "metadata": {},
   "outputs": [],
   "source": [
    "def word_list(episode,type):\n",
    "    pos_word_list=[]\n",
    "    neu_word_list=[]\n",
    "    neg_word_list=[]\n",
    "    tokenized_sentence = my_corpus.words(episode)\n",
    "    for word in tokenized_sentence:\n",
    "        if (analyzer.polarity_scores(word)['compound']) >= 0.1:\n",
    "            pos_word_list.append(word.lower())\n",
    "        elif (analyzer.polarity_scores(word)['compound']) <= -0.1:\n",
    "            neg_word_list.append(word.lower())\n",
    "        else:\n",
    "            neu_word_list.append(word.lower())\n",
    "    if type=='pos':\n",
    "        return word_count(pos_word_list)\n",
    "    elif type=='neg':\n",
    "        return word_count(neg_word_list)\n",
    "    elif type=='neu':\n",
    "        return word_count(neu_word_list)"
   ]
  },
  {
   "cell_type": "code",
   "execution_count": 44,
   "metadata": {},
   "outputs": [
    {
     "name": "stdout",
     "output_type": "stream",
     "text": [
      "S01/1.txt [('yeah', 8), ('like', 7), ('won', 7), ('yes', 6), ('well', 6)]\n",
      "S01/2.txt [('yeah', 25), ('like', 17), ('love', 16), ('good', 12), ('well', 10)]\n",
      "S01/3.txt [('yeah', 53), ('ok', 28), ('like', 26), ('well', 18), ('great', 13)]\n",
      "S02/1.txt [('yeah', 32), ('like', 25), ('ok', 21), ('please', 9), ('fine', 8)]\n",
      "S02/2.txt [('ok', 22), ('help', 21), ('like', 17), ('yeah', 15), ('please', 13)]\n",
      "S02/3.txt [('yeah', 29), ('well', 24), ('like', 23), ('ha', 18), ('good', 12)]\n",
      "S02/4.txt [('like', 46), ('well', 35), ('ok', 32), ('yeah', 27), ('good', 20)]\n",
      "S03/1.txt [('like', 47), ('laughs', 32), ('okay', 30), ('well', 28), ('giggles', 25)]\n",
      "S03/2.txt [('yeah', 64), ('okay', 62), ('like', 58), ('laughs', 47), ('good', 27)]\n",
      "S03/3.txt [('okay', 25), ('yeah', 24), ('alert', 16), ('plays', 9), ('like', 9)]\n",
      "S03/4.txt [('okay', 30), ('like', 30), ('laughs', 20), ('yeah', 18), ('love', 16)]\n",
      "S03/5.txt [('yeah', 27), ('okay', 26), ('like', 26), ('please', 12), ('well', 8)]\n",
      "S03/6.txt [('yeah', 45), ('like', 32), ('well', 21), ('okay', 21), ('good', 13)]\n",
      "S04/1.txt [('ok', 53), ('yeah', 47), ('like', 36), ('laughs', 27), ('yes', 23)]\n",
      "S04/2.txt [('ok', 59), ('like', 31), ('laughs', 26), ('yeah', 26), ('good', 14)]\n",
      "S04/3.txt [('yeah', 48), ('love', 26), ('ok', 23), ('well', 22), ('like', 18)]\n",
      "S04/4.txt [('yeah', 60), ('laughs', 35), ('like', 28), ('ok', 23), ('well', 16)]\n",
      "S04/5.txt [('ok', 7), ('please', 6), ('yeah', 4), ('like', 4), ('laughs', 4)]\n",
      "S04/6.txt [('like', 46), ('ok', 33), ('well', 18), ('good', 17), ('please', 17)]\n"
     ]
    }
   ],
   "source": [
    "for i in my_corpus.fileids():\n",
    "    print(i, word_list(i,'pos')[:5])"
   ]
  },
  {
   "cell_type": "code",
   "execution_count": 45,
   "metadata": {},
   "outputs": [
    {
     "name": "stdout",
     "output_type": "stream",
     "text": [
      "S01/1.txt [('no', 18), ('demand', 8), ('fuck', 8), ('kill', 3), ('sobs', 3)]\n",
      "S01/2.txt [('no', 26), ('fuck', 14), ('kill', 4), ('shame', 4), ('stop', 4)]\n",
      "S01/3.txt [('no', 44), ('shit', 6), ('weird', 6), ('seriously', 5), ('pay', 3)]\n",
      "S02/1.txt [('no', 38), ('shit', 10), ('wrong', 4), ('worry', 4), ('alone', 4)]\n",
      "S02/2.txt [('no', 20), ('murderer', 6), ('shit', 5), ('kill', 5), ('stop', 5)]\n",
      "S02/3.txt [('no', 29), ('ignoring', 8), ('seriously', 8), ('shit', 6), ('idiot', 4)]\n",
      "S02/4.txt [('no', 56), ('stop', 11), ('shit', 9), ('block', 7), ('fuck', 6)]\n",
      "S03/1.txt [('no', 43), ('fuck', 19), ('shit', 13), ('ass', 6), ('screams', 5)]\n",
      "S03/2.txt [('no', 51), ('stop', 28), ('fuck', 28), ('screams', 22), ('shit', 14)]\n",
      "S03/3.txt [('no', 21), ('fuck', 9), ('shit', 5), ('fight', 4), ('sick', 2)]\n",
      "S03/4.txt [('no', 39), ('stop', 5), ('bad', 5), ('shit', 5), ('stops', 4)]\n",
      "S03/5.txt [('no', 33), ('fuck', 21), ('shit', 17), ('stop', 6), ('screaming', 6)]\n",
      "S03/6.txt [('no', 53), ('shit', 21), ('fuck', 17), ('tired', 12), ('screams', 11)]\n",
      "S04/1.txt [('no', 74), ('shit', 12), ('fuck', 11), ('die', 9), ('alarm', 6)]\n",
      "S04/2.txt [('no', 31), ('fuck', 8), ('sobs', 6), ('screams', 6), ('moans', 4)]\n",
      "S04/3.txt [('mia', 66), ('no', 65), ('rob', 29), ('fuck', 14), ('accident', 11)]\n",
      "S04/4.txt [('no', 25), ('fuck', 13), ('stop', 4), ('shitting', 3), ('hell', 3)]\n",
      "S04/5.txt [('fuck', 30), ('screams', 10), ('no', 7), ('shit', 6), ('strains', 4)]\n",
      "S04/6.txt [('no', 66), ('shit', 16), ('pain', 13), ('fuck', 13), ('stop', 6)]\n"
     ]
    }
   ],
   "source": [
    "for i in my_corpus.fileids():\n",
    "    print(i, word_list(i,'neg')[:5])"
   ]
  },
  {
   "cell_type": "code",
   "execution_count": 47,
   "metadata": {},
   "outputs": [
    {
     "name": "stdout",
     "output_type": "stream",
     "text": [
      "It may be a sportsman - like gesture but we are making it .\n",
      "It ' s like 9 / 11 ' s happening and\n",
      "' People will look at him like he ' s insane and take his position away .\n",
      "It ' s not like Dogme 95 .\n",
      "' I can ' t think of anything remotely like this .\n",
      "Looks like a campus .\n",
      "Looks like it had lights on .\n"
     ]
    }
   ],
   "source": [
    "for i in my_corpus.sents('S01/1.txt'):\n",
    "    for word in i:\n",
    "        if word.lower() == 'like':\n",
    "            print(*i)"
   ]
  },
  {
   "cell_type": "code",
   "execution_count": null,
   "metadata": {},
   "outputs": [],
   "source": []
  }
 ],
 "metadata": {
  "kernelspec": {
   "display_name": "Python 3",
   "language": "python",
   "name": "python3"
  },
  "language_info": {
   "codemirror_mode": {
    "name": "ipython",
    "version": 3
   },
   "file_extension": ".py",
   "mimetype": "text/x-python",
   "name": "python",
   "nbconvert_exporter": "python",
   "pygments_lexer": "ipython3",
   "version": "3.7.3"
  }
 },
 "nbformat": 4,
 "nbformat_minor": 2
}
